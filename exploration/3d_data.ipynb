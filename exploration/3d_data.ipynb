{
 "cells": [
  {
   "cell_type": "markdown",
   "metadata": {},
   "source": [
    "## Imports"
   ]
  },
  {
   "cell_type": "code",
   "execution_count": 1,
   "metadata": {},
   "outputs": [],
   "source": [
    "# %matplotlib widget\n",
    "import numpy as np\n",
    "import matplotlib.pyplot as plt\n",
    "from os import path\n",
    "import metos3d.petsc_mod as petsc\n",
    "import data_conversion as dc\n",
    "import ipywidgets as widgets"
   ]
  },
  {
   "cell_type": "markdown",
   "metadata": {},
   "source": [
    "## Load data"
   ]
  },
  {
   "cell_type": "code",
   "execution_count": 2,
   "metadata": {},
   "outputs": [],
   "source": [
    "data_path = r\"D:\\Bachelorarbeit Data\\0000\\save\"\n",
    "data = np.load(path.join(data_path, \"data.npy\"))\n",
    "a_k = np.abs(np.load(path.join(data_path, \"a_k.npy\")))\n",
    "b_k = np.abs(np.load(path.join(data_path, \"b_k.npy\")))\n",
    "land_sea_mask = petsc.read_PETSc_matrix('metos3d\\\\landSeaMask.petsc')\n",
    "n1, n2 = np.shape(land_sea_mask.T)\n",
    "n3 = int(np.amax(land_sea_mask))"
   ]
  },
  {
   "cell_type": "code",
   "execution_count": 3,
   "metadata": {},
   "outputs": [
    {
     "data": {
      "text/plain": [
       "(128, 64, 15)"
      ]
     },
     "execution_count": 3,
     "metadata": {},
     "output_type": "execute_result"
    }
   ],
   "source": [
    "n1,n2,n3"
   ]
  },
  {
   "cell_type": "markdown",
   "metadata": {},
   "source": [
    "## Convert 2D-Data to 4D\n",
    "\n",
    "The data is in a 3D grid, which represents the position of each measure point in space. Each point is eaither `None` if there is no measuring point in the posiotion of a numpy array with the data associated to this point."
   ]
  },
  {
   "cell_type": "code",
   "execution_count": 4,
   "metadata": {},
   "outputs": [],
   "source": [
    "ak_3d = dc.convert_2d_to_4d(a_k, land_sea_mask)\n",
    "bk_3d = dc.convert_2d_to_4d(b_k, land_sea_mask)\n",
    "data_3d = dc.convert_2d_to_4d(data, land_sea_mask)\n"
   ]
  },
  {
   "cell_type": "markdown",
   "metadata": {},
   "source": [
    "## Definition of useful functions"
   ]
  },
  {
   "cell_type": "code",
   "execution_count": 5,
   "metadata": {},
   "outputs": [],
   "source": [
    "def extract_a_0(X):\n",
    "    if not X is None:\n",
    "        return X[0]\n",
    "    else:\n",
    "        return np.nan\n",
    "\n",
    "\n",
    "extract_a_0 = np.vectorize(extract_a_0, otypes=\"f\")\n",
    "\n",
    "a0_3d = extract_a_0(ak_3d)"
   ]
  },
  {
   "cell_type": "code",
   "execution_count": 6,
   "metadata": {},
   "outputs": [],
   "source": [
    "def get_max_coef(ak, bk):\n",
    "    \"\"\"Find the maximal coefficient for each 0 with 1 if it is a_k of 2 if it is b_k and also the index, meaning the k of a_k or b_k\"\"\"\n",
    "    if ak is None or bk is None:\n",
    "        return np.nan, 0, np.nan\n",
    "    else:\n",
    "        max_a = np.amax(ak[1:])\n",
    "        max_a_idx = np.argmax(ak[1:]) +1\n",
    "        max_b = np.amax(bk)\n",
    "        max_b_idx = np.argmax(bk)\n",
    "        if max_a >= max_b:\n",
    "            return max_a, 1, max_a_idx\n",
    "        else:\n",
    "            return max_b, 2, max_b_idx\n",
    "\n",
    "\n",
    "get_max_coef = np.vectorize(get_max_coef)\n",
    "\n",
    "max_coef, coef_type, coef_idx = get_max_coef(ak_3d, bk_3d)\n",
    "\n",
    "max_rel = max_coef/ a0_3d"
   ]
  },
  {
   "cell_type": "code",
   "execution_count": 7,
   "metadata": {},
   "outputs": [
    {
     "data": {
      "application/vnd.jupyter.widget-view+json": {
       "model_id": "bddbdb2d38ab4f5e8d0dccf79426f5a6",
       "version_major": 2,
       "version_minor": 0
      },
      "text/plain": [
       "interactive(children=(IntSlider(value=0, description='layer', max=14), Dropdown(description='data_type', index…"
      ]
     },
     "metadata": {},
     "output_type": "display_data"
    }
   ],
   "source": [
    "@widgets.interact(layer=(0, 14, 1), data_type=[\"max\", \"type\", \"ratio\", \"idx\", \"a0\"])\n",
    "def plot_3d(layer=0, data_type=\"ratio\"):\n",
    "    if data_type == \"max\":\n",
    "        data = max_coef\n",
    "    elif data_type == \"ratio\":\n",
    "        data = max_rel\n",
    "    elif data_type == \"type\":\n",
    "        data = coef_type\n",
    "    elif data_type == \"idx\":\n",
    "        data = coef_idx\n",
    "    elif data_type == \"a0\":\n",
    "        data = a0_3d\n",
    "\n",
    "    fig, ax = plt.subplots(figsize=(15, 7))\n",
    "    long, lat = np.meshgrid(np.linspace(-90, 90, n2),\n",
    "                            np.linspace(0, 360, n1))\n",
    "    data = data[:, :, layer]\n",
    "    print(\"max:\", np.nanmax(data))\n",
    "    print(\"min:\", np.nanmin(data))\n",
    "    plot = ax.contourf(lat, long, data)\n",
    "    fig.colorbar(plot, ax=ax)\n",
    "    plt.draw()"
   ]
  },
  {
   "cell_type": "code",
   "execution_count": 8,
   "metadata": {},
   "outputs": [],
   "source": [
    "import pandas as pd\n",
    "pd.set_option('display.max_rows', 100)"
   ]
  },
  {
   "cell_type": "code",
   "execution_count": 9,
   "metadata": {},
   "outputs": [],
   "source": [
    "def filter_nan(X):\n",
    "    return X[X==X]\n",
    "\n",
    "def filter_zero(X):\n",
    "    return X[X != 0]"
   ]
  },
  {
   "cell_type": "code",
   "execution_count": 10,
   "metadata": {},
   "outputs": [
    {
     "data": {
      "application/vnd.jupyter.widget-view+json": {
       "model_id": "6b473384f5f54674bd7b857ef6720be7",
       "version_major": 2,
       "version_minor": 0
      },
      "text/plain": [
       "interactive(children=(IntSlider(value=0, description='layer', max=14), Dropdown(description='sort_by', index=3…"
      ]
     },
     "metadata": {},
     "output_type": "display_data"
    }
   ],
   "source": [
    "@widgets.interact(layer=(0,14,1), sort_by=[\"coef\", \"type\", \"idx\",\"ratio\",\"a0\"], ascending=[True, False], num=(10,100,1), threshold=(0,10,0.1))\n",
    "def show_data(layer=0, sort_by=\"ratio\", ascending=False, num=10, threshold=0):\n",
    "    data = {\"coef\": filter_nan(max_coef[:,:,layer]), \"type\": filter_zero(coef_type[:,:,layer]), \"idx\": filter_nan(coef_idx[:,:,layer]), \"ratio\": filter_nan(max_rel[:,:,layer]), \"a0\": filter_nan(a0_3d[:,:,layer])}\n",
    "    df = pd.DataFrame(data)\n",
    "    df = df[df[sort_by] >= threshold]\n",
    "    print(len(df))\n",
    "    return df.sort_values(sort_by, ascending=ascending).head(num)"
   ]
  },
  {
   "cell_type": "code",
   "execution_count": 11,
   "metadata": {},
   "outputs": [
    {
     "data": {
      "text/html": [
       "<div>\n",
       "<style scoped>\n",
       "    .dataframe tbody tr th:only-of-type {\n",
       "        vertical-align: middle;\n",
       "    }\n",
       "\n",
       "    .dataframe tbody tr th {\n",
       "        vertical-align: top;\n",
       "    }\n",
       "\n",
       "    .dataframe thead th {\n",
       "        text-align: right;\n",
       "    }\n",
       "</style>\n",
       "<table border=\"1\" class=\"dataframe\">\n",
       "  <thead>\n",
       "    <tr style=\"text-align: right;\">\n",
       "      <th></th>\n",
       "      <th>layers</th>\n",
       "      <th>number of measured points</th>\n",
       "      <th>median_max_coef</th>\n",
       "      <th>mean_max_coef</th>\n",
       "      <th>max_coef</th>\n",
       "      <th>mean_a0</th>\n",
       "      <th>median_a0</th>\n",
       "      <th>max a0</th>\n",
       "      <th>median of max ratio</th>\n",
       "      <th>mean of max ratio</th>\n",
       "      <th>max of ratio</th>\n",
       "    </tr>\n",
       "  </thead>\n",
       "  <tbody>\n",
       "    <tr>\n",
       "      <th>0</th>\n",
       "      <td>1</td>\n",
       "      <td>4448</td>\n",
       "      <td>0.042989</td>\n",
       "      <td>0.049926</td>\n",
       "      <td>0.395649</td>\n",
       "      <td>0.602630</td>\n",
       "      <td>0.385723</td>\n",
       "      <td>2.557166</td>\n",
       "      <td>0.099161</td>\n",
       "      <td>0.148976</td>\n",
       "      <td>1.788243</td>\n",
       "    </tr>\n",
       "    <tr>\n",
       "      <th>1</th>\n",
       "      <td>2</td>\n",
       "      <td>4392</td>\n",
       "      <td>0.019485</td>\n",
       "      <td>0.026941</td>\n",
       "      <td>0.475646</td>\n",
       "      <td>0.749656</td>\n",
       "      <td>0.524623</td>\n",
       "      <td>3.771885</td>\n",
       "      <td>0.045531</td>\n",
       "      <td>0.067965</td>\n",
       "      <td>1.748717</td>\n",
       "    </tr>\n",
       "    <tr>\n",
       "      <th>2</th>\n",
       "      <td>3</td>\n",
       "      <td>4334</td>\n",
       "      <td>0.016373</td>\n",
       "      <td>0.020504</td>\n",
       "      <td>0.236272</td>\n",
       "      <td>1.051745</td>\n",
       "      <td>0.897501</td>\n",
       "      <td>4.642633</td>\n",
       "      <td>0.019743</td>\n",
       "      <td>0.030966</td>\n",
       "      <td>0.434879</td>\n",
       "    </tr>\n",
       "    <tr>\n",
       "      <th>3</th>\n",
       "      <td>4</td>\n",
       "      <td>4259</td>\n",
       "      <td>0.008547</td>\n",
       "      <td>0.011998</td>\n",
       "      <td>0.129664</td>\n",
       "      <td>1.301029</td>\n",
       "      <td>1.203156</td>\n",
       "      <td>4.902974</td>\n",
       "      <td>0.008122</td>\n",
       "      <td>0.013137</td>\n",
       "      <td>0.251607</td>\n",
       "    </tr>\n",
       "    <tr>\n",
       "      <th>4</th>\n",
       "      <td>5</td>\n",
       "      <td>4164</td>\n",
       "      <td>0.004719</td>\n",
       "      <td>0.006876</td>\n",
       "      <td>0.068551</td>\n",
       "      <td>1.557096</td>\n",
       "      <td>1.507724</td>\n",
       "      <td>4.768317</td>\n",
       "      <td>0.003501</td>\n",
       "      <td>0.005638</td>\n",
       "      <td>0.110538</td>\n",
       "    </tr>\n",
       "    <tr>\n",
       "      <th>5</th>\n",
       "      <td>6</td>\n",
       "      <td>4088</td>\n",
       "      <td>0.002864</td>\n",
       "      <td>0.004233</td>\n",
       "      <td>0.056974</td>\n",
       "      <td>1.806533</td>\n",
       "      <td>1.791551</td>\n",
       "      <td>4.261612</td>\n",
       "      <td>0.001671</td>\n",
       "      <td>0.002745</td>\n",
       "      <td>0.064204</td>\n",
       "    </tr>\n",
       "    <tr>\n",
       "      <th>6</th>\n",
       "      <td>7</td>\n",
       "      <td>4026</td>\n",
       "      <td>0.001667</td>\n",
       "      <td>0.002826</td>\n",
       "      <td>0.036461</td>\n",
       "      <td>2.041114</td>\n",
       "      <td>2.031863</td>\n",
       "      <td>4.087929</td>\n",
       "      <td>0.000849</td>\n",
       "      <td>0.001472</td>\n",
       "      <td>0.025237</td>\n",
       "    </tr>\n",
       "    <tr>\n",
       "      <th>7</th>\n",
       "      <td>8</td>\n",
       "      <td>3940</td>\n",
       "      <td>0.001026</td>\n",
       "      <td>0.001702</td>\n",
       "      <td>0.042294</td>\n",
       "      <td>2.203353</td>\n",
       "      <td>2.176857</td>\n",
       "      <td>4.389729</td>\n",
       "      <td>0.000496</td>\n",
       "      <td>0.000803</td>\n",
       "      <td>0.015286</td>\n",
       "    </tr>\n",
       "    <tr>\n",
       "      <th>8</th>\n",
       "      <td>9</td>\n",
       "      <td>3822</td>\n",
       "      <td>0.000621</td>\n",
       "      <td>0.000953</td>\n",
       "      <td>0.025517</td>\n",
       "      <td>2.267723</td>\n",
       "      <td>2.252358</td>\n",
       "      <td>5.016776</td>\n",
       "      <td>0.000286</td>\n",
       "      <td>0.000476</td>\n",
       "      <td>0.007051</td>\n",
       "    </tr>\n",
       "    <tr>\n",
       "      <th>9</th>\n",
       "      <td>10</td>\n",
       "      <td>3679</td>\n",
       "      <td>0.000394</td>\n",
       "      <td>0.000614</td>\n",
       "      <td>0.008514</td>\n",
       "      <td>2.286396</td>\n",
       "      <td>2.322809</td>\n",
       "      <td>5.710725</td>\n",
       "      <td>0.000169</td>\n",
       "      <td>0.000306</td>\n",
       "      <td>0.006123</td>\n",
       "    </tr>\n",
       "    <tr>\n",
       "      <th>10</th>\n",
       "      <td>11</td>\n",
       "      <td>3558</td>\n",
       "      <td>0.000494</td>\n",
       "      <td>0.000799</td>\n",
       "      <td>0.013658</td>\n",
       "      <td>2.336143</td>\n",
       "      <td>2.394216</td>\n",
       "      <td>5.702510</td>\n",
       "      <td>0.000212</td>\n",
       "      <td>0.000401</td>\n",
       "      <td>0.010456</td>\n",
       "    </tr>\n",
       "    <tr>\n",
       "      <th>11</th>\n",
       "      <td>12</td>\n",
       "      <td>3324</td>\n",
       "      <td>0.000464</td>\n",
       "      <td>0.000821</td>\n",
       "      <td>0.020046</td>\n",
       "      <td>2.427810</td>\n",
       "      <td>2.473001</td>\n",
       "      <td>3.928060</td>\n",
       "      <td>0.000188</td>\n",
       "      <td>0.000388</td>\n",
       "      <td>0.011877</td>\n",
       "    </tr>\n",
       "    <tr>\n",
       "      <th>12</th>\n",
       "      <td>13</td>\n",
       "      <td>2453</td>\n",
       "      <td>0.000360</td>\n",
       "      <td>0.000635</td>\n",
       "      <td>0.007522</td>\n",
       "      <td>2.533282</td>\n",
       "      <td>2.537057</td>\n",
       "      <td>4.282151</td>\n",
       "      <td>0.000146</td>\n",
       "      <td>0.000267</td>\n",
       "      <td>0.003901</td>\n",
       "    </tr>\n",
       "    <tr>\n",
       "      <th>13</th>\n",
       "      <td>14</td>\n",
       "      <td>1589</td>\n",
       "      <td>0.000317</td>\n",
       "      <td>0.000513</td>\n",
       "      <td>0.007023</td>\n",
       "      <td>2.632563</td>\n",
       "      <td>2.634445</td>\n",
       "      <td>4.512863</td>\n",
       "      <td>0.000123</td>\n",
       "      <td>0.000191</td>\n",
       "      <td>0.002734</td>\n",
       "    </tr>\n",
       "    <tr>\n",
       "      <th>14</th>\n",
       "      <td>15</td>\n",
       "      <td>673</td>\n",
       "      <td>0.000234</td>\n",
       "      <td>0.000323</td>\n",
       "      <td>0.002611</td>\n",
       "      <td>2.774505</td>\n",
       "      <td>2.902699</td>\n",
       "      <td>3.976382</td>\n",
       "      <td>0.000082</td>\n",
       "      <td>0.000110</td>\n",
       "      <td>0.000892</td>\n",
       "    </tr>\n",
       "  </tbody>\n",
       "</table>\n",
       "</div>"
      ],
      "text/plain": [
       "    layers  number of measured points  median_max_coef  mean_max_coef  \\\n",
       "0        1                       4448         0.042989       0.049926   \n",
       "1        2                       4392         0.019485       0.026941   \n",
       "2        3                       4334         0.016373       0.020504   \n",
       "3        4                       4259         0.008547       0.011998   \n",
       "4        5                       4164         0.004719       0.006876   \n",
       "5        6                       4088         0.002864       0.004233   \n",
       "6        7                       4026         0.001667       0.002826   \n",
       "7        8                       3940         0.001026       0.001702   \n",
       "8        9                       3822         0.000621       0.000953   \n",
       "9       10                       3679         0.000394       0.000614   \n",
       "10      11                       3558         0.000494       0.000799   \n",
       "11      12                       3324         0.000464       0.000821   \n",
       "12      13                       2453         0.000360       0.000635   \n",
       "13      14                       1589         0.000317       0.000513   \n",
       "14      15                        673         0.000234       0.000323   \n",
       "\n",
       "    max_coef   mean_a0  median_a0    max a0  median of max ratio  \\\n",
       "0   0.395649  0.602630   0.385723  2.557166             0.099161   \n",
       "1   0.475646  0.749656   0.524623  3.771885             0.045531   \n",
       "2   0.236272  1.051745   0.897501  4.642633             0.019743   \n",
       "3   0.129664  1.301029   1.203156  4.902974             0.008122   \n",
       "4   0.068551  1.557096   1.507724  4.768317             0.003501   \n",
       "5   0.056974  1.806533   1.791551  4.261612             0.001671   \n",
       "6   0.036461  2.041114   2.031863  4.087929             0.000849   \n",
       "7   0.042294  2.203353   2.176857  4.389729             0.000496   \n",
       "8   0.025517  2.267723   2.252358  5.016776             0.000286   \n",
       "9   0.008514  2.286396   2.322809  5.710725             0.000169   \n",
       "10  0.013658  2.336143   2.394216  5.702510             0.000212   \n",
       "11  0.020046  2.427810   2.473001  3.928060             0.000188   \n",
       "12  0.007522  2.533282   2.537057  4.282151             0.000146   \n",
       "13  0.007023  2.632563   2.634445  4.512863             0.000123   \n",
       "14  0.002611  2.774505   2.902699  3.976382             0.000082   \n",
       "\n",
       "    mean of max ratio  max of ratio  \n",
       "0            0.148976      1.788243  \n",
       "1            0.067965      1.748717  \n",
       "2            0.030966      0.434879  \n",
       "3            0.013137      0.251607  \n",
       "4            0.005638      0.110538  \n",
       "5            0.002745      0.064204  \n",
       "6            0.001472      0.025237  \n",
       "7            0.000803      0.015286  \n",
       "8            0.000476      0.007051  \n",
       "9            0.000306      0.006123  \n",
       "10           0.000401      0.010456  \n",
       "11           0.000388      0.011877  \n",
       "12           0.000267      0.003901  \n",
       "13           0.000191      0.002734  \n",
       "14           0.000110      0.000892  "
      ]
     },
     "execution_count": 11,
     "metadata": {},
     "output_type": "execute_result"
    }
   ],
   "source": [
    "layers = [i + 1 for i in range(15)]\n",
    "count = [len(filter_nan(max_coef[:, :, i])) for i in range(15)]\n",
    "median_max_coef = [np.median(filter_nan(max_coef[:, :, i])) for i in range(15)]\n",
    "mean_max_coef = [np.mean(filter_nan(max_coef[:, :, i])) for i in range(15)]\n",
    "layer_max_coef = [np.max(filter_nan(max_coef[:, :, i])) for i in range(15)]\n",
    "mean_a0 = [np.mean(filter_nan(a0_3d[:, :, i])) for i in range(15)]\n",
    "median_a0 = [np.median(filter_nan(a0_3d[:, :, i])) for i in range(15)]\n",
    "max_a0 =  [np.max(filter_nan(a0_3d[:, :, i])) for i in range(15)]\n",
    "median_ratio = [np.median(filter_nan(max_rel[:, :, i])) for i in range(15)]\n",
    "mean_ratio = [np.mean(filter_nan(max_rel[:, :, i])) for i in range(15)]\n",
    "max_ratio = [np.max(filter_nan(max_rel[:, :, i])) for i in range(15)]\n",
    "pd.DataFrame(data={\"layers\": layers,\"number of measured points\":count,   \"median_max_coef\": median_max_coef, \"mean_max_coef\": mean_max_coef, \"max_coef\": layer_max_coef,\n",
    "             \"mean_a0\": mean_a0, \"median_a0\": median_a0, \"max a0\": max_a0,  \"median of max ratio\": median_ratio, \"mean of max ratio\" : mean_ratio, \"max of ratio\" : max_ratio})\n"
   ]
  },
  {
   "cell_type": "code",
   "execution_count": 12,
   "metadata": {},
   "outputs": [],
   "source": [
    "def get_ratios(data, a0):\n",
    "    if data is None or a0 is None:\n",
    "        return None\n",
    "\n",
    "    return data / a0\n",
    "\n",
    "get_ratios = np.vectorize(get_ratios)\n",
    "a_ratios = get_ratios(ak_3d, a0_3d)\n",
    "b_ratios = get_ratios(bk_3d, a0_3d)\n",
    "\n",
    "def ratio_count_over(ratios, threshold):\n",
    "    if ratios is None:\n",
    "        return 0\n",
    "    else:\n",
    "        return len(ratios[ratios >= threshold])\n",
    "ratio_count_over = np.vectorize(ratio_count_over)"
   ]
  },
  {
   "cell_type": "code",
   "execution_count": 13,
   "metadata": {},
   "outputs": [
    {
     "data": {
      "application/vnd.jupyter.widget-view+json": {
       "model_id": "17c8ab3af32946af8220bc5b41214706",
       "version_major": 2,
       "version_minor": 0
      },
      "text/plain": [
       "interactive(children=(IntSlider(value=0, description='layer', max=14), FloatSlider(value=0.0, description='thr…"
      ]
     },
     "metadata": {},
     "output_type": "display_data"
    }
   ],
   "source": [
    "@widgets.interact(layer=(0,14,1), threshold=(0,1,0.05))\n",
    "def values_above_ratio(layer=0, threshold=0):\n",
    "    fig, ax = plt.subplots(figsize=(15, 7))\n",
    "    long, lat = np.meshgrid(np.linspace(-90, 90, n2),\n",
    "                            np.linspace(0, 360, n1))\n",
    "    ak_count = ratio_count_over(a_ratios[:,:,layer],threshold )\n",
    "    bk_count = ratio_count_over(b_ratios[:,:,layer], threshold)\n",
    "    count = ak_count + bk_count\n",
    "    print(\"max:\", np.max(count))\n",
    "    plot = ax.contourf(lat, long, count)\n",
    "    fig.colorbar(plot, ax=ax)\n",
    "    plt.draw()"
   ]
  },
  {
   "cell_type": "code",
   "execution_count": 14,
   "metadata": {},
   "outputs": [],
   "source": [
    "dev = data.std(axis=1)"
   ]
  },
  {
   "cell_type": "code",
   "execution_count": 15,
   "metadata": {},
   "outputs": [],
   "source": [
    "dev_3, n1,n2,n3 = petsc.reshape_vector_to_3d(land_sea_mask, dev)\n",
    "long, lat = np.meshgrid(np.linspace(-90, 90, n2),\n",
    "                        np.linspace(0, 360, n1))"
   ]
  },
  {
   "cell_type": "code",
   "execution_count": 16,
   "metadata": {},
   "outputs": [
    {
     "data": {
      "application/vnd.jupyter.widget-view+json": {
       "model_id": "142504edc9a7483585d40950c807aa6c",
       "version_major": 2,
       "version_minor": 0
      },
      "text/plain": [
       "interactive(children=(IntSlider(value=0, description='layer', max=14), Output()), _dom_classes=('widget-intera…"
      ]
     },
     "metadata": {},
     "output_type": "display_data"
    }
   ],
   "source": [
    "@widgets.interact(layer=(0,14,1))\n",
    "def std_dev(layer=0,):\n",
    "    fig, ax = plt.subplots(figsize=(15, 7))\n",
    "    print(\"max:\", np.nanmax(dev_3[:,:,layer]))\n",
    "    print(\"min:\", np.nanmin(dev_3[:,:,layer]))\n",
    "    plot = ax.contourf(lat, long, dev_3[:,:,layer])\n",
    "    fig.colorbar(plot, ax=ax)\n",
    "    plt.draw()"
   ]
  }
 ],
 "metadata": {
  "interpreter": {
   "hash": "355e839aecf0a26916d35e15c45664b331db5e8d8ce8be26c9acca8aa55b4770"
  },
  "kernelspec": {
   "display_name": "Python 3.8.8 64-bit ('base': conda)",
   "name": "python3"
  },
  "language_info": {
   "codemirror_mode": {
    "name": "ipython",
    "version": 3
   },
   "file_extension": ".py",
   "mimetype": "text/x-python",
   "name": "python",
   "nbconvert_exporter": "python",
   "pygments_lexer": "ipython3",
   "version": "3.8.8"
  },
  "orig_nbformat": 4
 },
 "nbformat": 4,
 "nbformat_minor": 2
}
