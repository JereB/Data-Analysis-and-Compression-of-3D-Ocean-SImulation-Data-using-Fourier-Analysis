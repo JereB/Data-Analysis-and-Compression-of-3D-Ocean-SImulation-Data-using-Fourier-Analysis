{
 "cells": [
  {
   "cell_type": "code",
   "execution_count": 2,
   "metadata": {},
   "outputs": [],
   "source": [
    "import numpy as np\n",
    "from os.path import join\n",
    "import matplotlib.pyplot as plt\n",
    "import metos3d.petsc_mod as petsc\n",
    "from os import path\n",
    "import pandas as pd"
   ]
  },
  {
   "cell_type": "code",
   "execution_count": 3,
   "metadata": {},
   "outputs": [],
   "source": [
    "data_path = r\"D:\\Bachelorarbeit Data\\0000\\save\"\n",
    "X = np.load(join(data_path,\"c.npy\" ))\n",
    "data = np.load(join(data_path, \"data.npy\"))\n",
    "mean_data = np.mean(data, axis=1)"
   ]
  },
  {
   "cell_type": "markdown",
   "metadata": {},
   "source": [
    "## Function to evaluate the maximal data, does not "
   ]
  },
  {
   "cell_type": "code",
   "execution_count": 4,
   "metadata": {},
   "outputs": [],
   "source": [
    "def accumulate_data(data, index_set=None):\n",
    "    if index_set is None:\n",
    "        index_set = range(1, len(data[0]))\n",
    "\n",
    "    acc = 0\n",
    "    for row in data:\n",
    "        for index in index_set:\n",
    "            a_coef = abs(row[index])\n",
    "            acc += a_coef * a_coef\n",
    "\n",
    "    return acc"
   ]
  },
  {
   "cell_type": "code",
   "execution_count": 5,
   "metadata": {},
   "outputs": [],
   "source": [
    "og = accumulate_data(X)"
   ]
  },
  {
   "cell_type": "markdown",
   "metadata": {},
   "source": [
    "## Taking the maximal coefficient for each point\n",
    "This does not work!!\n",
    "Even when using every max index, this does not nearly come close enough to an approcimate quality"
   ]
  },
  {
   "cell_type": "code",
   "execution_count": 6,
   "metadata": {},
   "outputs": [],
   "source": [
    "\n",
    "# index for the maximum in each row, ommiting the 0-th coefficient\n",
    "maximums = np.argmax(X[:,1:], axis=1)\n",
    "#increment each index\n",
    "maximums = np.array(list(map(lambda x : x+1, maximums)))\n",
    "\n",
    "# count unique indices and count how often each one comes up\n",
    "idx, counts = np.unique(maximums, return_counts=True)\n",
    "# sort the indices according to how often they are maximum\n",
    "tuples = list(zip(idx, counts))\n",
    "tuples.sort(key=lambda x : x[1], reverse=True)\n",
    "# \n",
    "sort_idx = list(map(lambda x: x[0], tuples))\n"
   ]
  },
  {
   "cell_type": "code",
   "execution_count": 7,
   "metadata": {},
   "outputs": [
    {
     "data": {
      "text/html": [
       "<div>\n",
       "<style scoped>\n",
       "    .dataframe tbody tr th:only-of-type {\n",
       "        vertical-align: middle;\n",
       "    }\n",
       "\n",
       "    .dataframe tbody tr th {\n",
       "        vertical-align: top;\n",
       "    }\n",
       "\n",
       "    .dataframe thead th {\n",
       "        text-align: right;\n",
       "    }\n",
       "</style>\n",
       "<table border=\"1\" class=\"dataframe\">\n",
       "  <thead>\n",
       "    <tr style=\"text-align: right;\">\n",
       "      <th></th>\n",
       "      <th># of coef</th>\n",
       "      <th>used coefs</th>\n",
       "      <th>delta</th>\n",
       "    </tr>\n",
       "  </thead>\n",
       "  <tbody>\n",
       "    <tr>\n",
       "      <th>0</th>\n",
       "      <td>1</td>\n",
       "      <td>[1]</td>\n",
       "      <td>0.458948</td>\n",
       "    </tr>\n",
       "    <tr>\n",
       "      <th>1</th>\n",
       "      <td>2</td>\n",
       "      <td>[1, 2]</td>\n",
       "      <td>0.488431</td>\n",
       "    </tr>\n",
       "    <tr>\n",
       "      <th>2</th>\n",
       "      <td>3</td>\n",
       "      <td>[1, 2, 2879]</td>\n",
       "      <td>0.947380</td>\n",
       "    </tr>\n",
       "    <tr>\n",
       "      <th>3</th>\n",
       "      <td>4</td>\n",
       "      <td>[1, 2, 2879, 3]</td>\n",
       "      <td>0.953241</td>\n",
       "    </tr>\n",
       "    <tr>\n",
       "      <th>4</th>\n",
       "      <td>5</td>\n",
       "      <td>[1, 2, 2879, 3, 4]</td>\n",
       "      <td>0.955534</td>\n",
       "    </tr>\n",
       "    <tr>\n",
       "      <th>5</th>\n",
       "      <td>6</td>\n",
       "      <td>[1, 2, 2879, 3, 4, 2878]</td>\n",
       "      <td>0.985017</td>\n",
       "    </tr>\n",
       "    <tr>\n",
       "      <th>6</th>\n",
       "      <td>7</td>\n",
       "      <td>[1, 2, 2879, 3, 4, 2878, 2877]</td>\n",
       "      <td>0.990878</td>\n",
       "    </tr>\n",
       "    <tr>\n",
       "      <th>7</th>\n",
       "      <td>8</td>\n",
       "      <td>[1, 2, 2879, 3, 4, 2878, 2877, 2875]</td>\n",
       "      <td>0.992034</td>\n",
       "    </tr>\n",
       "    <tr>\n",
       "      <th>8</th>\n",
       "      <td>9</td>\n",
       "      <td>[1, 2, 2879, 3, 4, 2878, 2877, 2875, 2874]</td>\n",
       "      <td>0.992694</td>\n",
       "    </tr>\n",
       "    <tr>\n",
       "      <th>9</th>\n",
       "      <td>10</td>\n",
       "      <td>[1, 2, 2879, 3, 4, 2878, 2877, 2875, 2874, 2876]</td>\n",
       "      <td>0.994987</td>\n",
       "    </tr>\n",
       "  </tbody>\n",
       "</table>\n",
       "</div>"
      ],
      "text/plain": [
       "   # of coef                                        used coefs     delta\n",
       "0          1                                               [1]  0.458948\n",
       "1          2                                            [1, 2]  0.488431\n",
       "2          3                                      [1, 2, 2879]  0.947380\n",
       "3          4                                   [1, 2, 2879, 3]  0.953241\n",
       "4          5                                [1, 2, 2879, 3, 4]  0.955534\n",
       "5          6                          [1, 2, 2879, 3, 4, 2878]  0.985017\n",
       "6          7                    [1, 2, 2879, 3, 4, 2878, 2877]  0.990878\n",
       "7          8              [1, 2, 2879, 3, 4, 2878, 2877, 2875]  0.992034\n",
       "8          9        [1, 2, 2879, 3, 4, 2878, 2877, 2875, 2874]  0.992694\n",
       "9         10  [1, 2, 2879, 3, 4, 2878, 2877, 2875, 2874, 2876]  0.994987"
      ]
     },
     "execution_count": 7,
     "metadata": {},
     "output_type": "execute_result"
    }
   ],
   "source": [
    "deltas = []\n",
    "idx_num = []\n",
    "used_coefs = []\n",
    "\n",
    "for i in range(1,11):\n",
    "    comp = accumulate_data(X, index_set=set(sort_idx[:i]))\n",
    "    deltas.append(comp / og)\n",
    "    idx_num.append(i)\n",
    "    used_coefs.append(sort_idx[:i])\n",
    "df = pd.DataFrame({\"# of coef\": idx_num,\"used coefs\":used_coefs, \"delta\": deltas})\n",
    "df"
   ]
  },
  {
   "cell_type": "markdown",
   "metadata": {},
   "source": [
    "## Get the best indices for this measure\n",
    "\n",
    "get each value for $C_k$ for coefficients $c_k$ for point $p$ with \n",
    "$$ C_k = \\sum_{p \\in P} |c_k^p| ^2$$"
   ]
  },
  {
   "cell_type": "code",
   "execution_count": 8,
   "metadata": {},
   "outputs": [],
   "source": [
    "C_k = [0] * len(X[0])\n",
    "for row in X:\n",
    "    for i in range(1,len(row)):\n",
    "        abs_c = abs(row[i])\n",
    "        C_k[i] += abs_c * abs_c"
   ]
  },
  {
   "cell_type": "code",
   "execution_count": 9,
   "metadata": {},
   "outputs": [],
   "source": [
    "C_sorted = sorted(enumerate(C_k), reverse=True, key=lambda c: c[1])\n",
    "C_idx_sorted = list(map(lambda c: c[0],C_sorted))\n"
   ]
  },
  {
   "cell_type": "code",
   "execution_count": 10,
   "metadata": {},
   "outputs": [
    {
     "data": {
      "text/html": [
       "<div>\n",
       "<style scoped>\n",
       "    .dataframe tbody tr th:only-of-type {\n",
       "        vertical-align: middle;\n",
       "    }\n",
       "\n",
       "    .dataframe tbody tr th {\n",
       "        vertical-align: top;\n",
       "    }\n",
       "\n",
       "    .dataframe thead th {\n",
       "        text-align: right;\n",
       "    }\n",
       "</style>\n",
       "<table border=\"1\" class=\"dataframe\">\n",
       "  <thead>\n",
       "    <tr style=\"text-align: right;\">\n",
       "      <th></th>\n",
       "      <th>index</th>\n",
       "      <th>\\delta_i</th>\n",
       "    </tr>\n",
       "  </thead>\n",
       "  <tbody>\n",
       "    <tr>\n",
       "      <th>0</th>\n",
       "      <td>1</td>\n",
       "      <td>0.458948</td>\n",
       "    </tr>\n",
       "    <tr>\n",
       "      <th>1</th>\n",
       "      <td>2879</td>\n",
       "      <td>0.458948</td>\n",
       "    </tr>\n",
       "    <tr>\n",
       "      <th>2</th>\n",
       "      <td>2</td>\n",
       "      <td>0.029483</td>\n",
       "    </tr>\n",
       "    <tr>\n",
       "      <th>3</th>\n",
       "      <td>2878</td>\n",
       "      <td>0.029483</td>\n",
       "    </tr>\n",
       "    <tr>\n",
       "      <th>4</th>\n",
       "      <td>3</td>\n",
       "      <td>0.005861</td>\n",
       "    </tr>\n",
       "    <tr>\n",
       "      <th>5</th>\n",
       "      <td>2877</td>\n",
       "      <td>0.005861</td>\n",
       "    </tr>\n",
       "    <tr>\n",
       "      <th>6</th>\n",
       "      <td>4</td>\n",
       "      <td>0.002293</td>\n",
       "    </tr>\n",
       "    <tr>\n",
       "      <th>7</th>\n",
       "      <td>2876</td>\n",
       "      <td>0.002293</td>\n",
       "    </tr>\n",
       "    <tr>\n",
       "      <th>8</th>\n",
       "      <td>5</td>\n",
       "      <td>0.001156</td>\n",
       "    </tr>\n",
       "    <tr>\n",
       "      <th>9</th>\n",
       "      <td>2875</td>\n",
       "      <td>0.001156</td>\n",
       "    </tr>\n",
       "  </tbody>\n",
       "</table>\n",
       "</div>"
      ],
      "text/plain": [
       "   index  \\delta_i\n",
       "0      1  0.458948\n",
       "1   2879  0.458948\n",
       "2      2  0.029483\n",
       "3   2878  0.029483\n",
       "4      3  0.005861\n",
       "5   2877  0.005861\n",
       "6      4  0.002293\n",
       "7   2876  0.002293\n",
       "8      5  0.001156\n",
       "9   2875  0.001156"
      ]
     },
     "execution_count": 10,
     "metadata": {},
     "output_type": "execute_result"
    }
   ],
   "source": [
    "i = 10\n",
    "indices = map(lambda x : x[0], C_sorted[:i])\n",
    "deltas = map(lambda x: x[1] / og, C_sorted[:i])\n",
    "pd.DataFrame({\"index\": indices, \"\\delta_i\": deltas})"
   ]
  },
  {
   "cell_type": "code",
   "execution_count": 11,
   "metadata": {},
   "outputs": [
    {
     "data": {
      "text/html": [
       "<div>\n",
       "<style scoped>\n",
       "    .dataframe tbody tr th:only-of-type {\n",
       "        vertical-align: middle;\n",
       "    }\n",
       "\n",
       "    .dataframe tbody tr th {\n",
       "        vertical-align: top;\n",
       "    }\n",
       "\n",
       "    .dataframe thead th {\n",
       "        text-align: right;\n",
       "    }\n",
       "</style>\n",
       "<table border=\"1\" class=\"dataframe\">\n",
       "  <thead>\n",
       "    <tr style=\"text-align: right;\">\n",
       "      <th></th>\n",
       "      <th># of index</th>\n",
       "      <th>index set</th>\n",
       "      <th>delta</th>\n",
       "    </tr>\n",
       "  </thead>\n",
       "  <tbody>\n",
       "    <tr>\n",
       "      <th>0</th>\n",
       "      <td>1</td>\n",
       "      <td>[1]</td>\n",
       "      <td>0.458948</td>\n",
       "    </tr>\n",
       "    <tr>\n",
       "      <th>1</th>\n",
       "      <td>2</td>\n",
       "      <td>[1, 2879]</td>\n",
       "      <td>0.917897</td>\n",
       "    </tr>\n",
       "    <tr>\n",
       "      <th>2</th>\n",
       "      <td>3</td>\n",
       "      <td>[1, 2879, 2]</td>\n",
       "      <td>0.947380</td>\n",
       "    </tr>\n",
       "    <tr>\n",
       "      <th>3</th>\n",
       "      <td>4</td>\n",
       "      <td>[1, 2879, 2, 2878]</td>\n",
       "      <td>0.976863</td>\n",
       "    </tr>\n",
       "    <tr>\n",
       "      <th>4</th>\n",
       "      <td>5</td>\n",
       "      <td>[1, 2879, 2, 2878, 3]</td>\n",
       "      <td>0.982724</td>\n",
       "    </tr>\n",
       "    <tr>\n",
       "      <th>5</th>\n",
       "      <td>6</td>\n",
       "      <td>[1, 2879, 2, 2878, 3, 2877]</td>\n",
       "      <td>0.988585</td>\n",
       "    </tr>\n",
       "    <tr>\n",
       "      <th>6</th>\n",
       "      <td>7</td>\n",
       "      <td>[1, 2879, 2, 2878, 3, 2877, 4]</td>\n",
       "      <td>0.990878</td>\n",
       "    </tr>\n",
       "    <tr>\n",
       "      <th>7</th>\n",
       "      <td>8</td>\n",
       "      <td>[1, 2879, 2, 2878, 3, 2877, 4, 2876]</td>\n",
       "      <td>0.993170</td>\n",
       "    </tr>\n",
       "    <tr>\n",
       "      <th>8</th>\n",
       "      <td>9</td>\n",
       "      <td>[1, 2879, 2, 2878, 3, 2877, 4, 2876, 5]</td>\n",
       "      <td>0.994327</td>\n",
       "    </tr>\n",
       "    <tr>\n",
       "      <th>9</th>\n",
       "      <td>10</td>\n",
       "      <td>[1, 2879, 2, 2878, 3, 2877, 4, 2876, 5, 2875]</td>\n",
       "      <td>0.995483</td>\n",
       "    </tr>\n",
       "  </tbody>\n",
       "</table>\n",
       "</div>"
      ],
      "text/plain": [
       "   # of index                                      index set     delta\n",
       "0           1                                            [1]  0.458948\n",
       "1           2                                      [1, 2879]  0.917897\n",
       "2           3                                   [1, 2879, 2]  0.947380\n",
       "3           4                             [1, 2879, 2, 2878]  0.976863\n",
       "4           5                          [1, 2879, 2, 2878, 3]  0.982724\n",
       "5           6                    [1, 2879, 2, 2878, 3, 2877]  0.988585\n",
       "6           7                 [1, 2879, 2, 2878, 3, 2877, 4]  0.990878\n",
       "7           8           [1, 2879, 2, 2878, 3, 2877, 4, 2876]  0.993170\n",
       "8           9        [1, 2879, 2, 2878, 3, 2877, 4, 2876, 5]  0.994327\n",
       "9          10  [1, 2879, 2, 2878, 3, 2877, 4, 2876, 5, 2875]  0.995483"
      ]
     },
     "execution_count": 11,
     "metadata": {},
     "output_type": "execute_result"
    }
   ],
   "source": [
    "delta = []\n",
    "index_set = []\n",
    "number = []\n",
    "\n",
    "for i in range(1,11):\n",
    "    comp = accumulate_data(X, index_set=C_idx_sorted[:i])\n",
    "    delta.append(comp / og)\n",
    "    index_set.append(C_idx_sorted[:i])\n",
    "    number.append(i)\n",
    "\n",
    "pd.DataFrame({\"# of index\":number, \"index set\": index_set, \"delta\": delta})"
   ]
  },
  {
   "cell_type": "markdown",
   "metadata": {},
   "source": [
    "Tabelle machen , gerade Zahlen\n"
   ]
  },
  {
   "cell_type": "markdown",
   "metadata": {},
   "source": [
    "## Compare compressed Data to original\n"
   ]
  },
  {
   "cell_type": "code",
   "execution_count": 12,
   "metadata": {},
   "outputs": [],
   "source": [
    "def fake_compress (data, index_set):\n",
    "    compressed_data = np.zeros(data.shape, dtype=\"complex128\")\n",
    "    for i in index_set:\n",
    "        compressed_data[:,i] = data[:,i]\n",
    "\n",
    "    return np.abs(np.real(np.fft.ifft(compressed_data)))"
   ]
  },
  {
   "cell_type": "code",
   "execution_count": 13,
   "metadata": {},
   "outputs": [],
   "source": [
    "land_sea_mask = petsc.read_PETSc_matrix('metos3d\\\\landSeaMask.petsc')\n",
    "n1, n2 = np.shape(land_sea_mask.T)\n",
    "mean_values = np.mean(data, axis=1)"
   ]
  },
  {
   "cell_type": "code",
   "execution_count": 28,
   "metadata": {},
   "outputs": [
    {
     "name": "stdout",
     "output_type": "stream",
     "text": [
      "-0.3588024804138362 -0.3991645833989094 -0.3814207382905417\n",
      "-0.5044725329575495 -0.5116384967585683 -0.5049238412129586\n",
      "-0.2915858103122073 -0.26593679800309666 -0.27618884868966265\n",
      "-0.15403837087554217 -0.14463551667988828 -0.17292532429021867\n",
      "-0.07124092896484413 -0.06882142357173637 -0.08288249003143378\n",
      "-0.0650681489946453 -0.06335249599789028 -0.06443772800018066\n",
      "-0.0399849453051917 -0.03682965249011527 -0.03896430293148967\n",
      "-0.0417718142670358 -0.04265078224989782 -0.04233989643692748\n",
      "-0.025077195940862218 -0.025580952467473494 -0.025452904063444137\n",
      "-0.009743323571322682 -0.008685929050003649 -0.009099856331739709\n",
      "-0.015723550955122123 -0.013815432474988842 -0.014598690739356046\n",
      "-0.02269708738677112 -0.02039484936791247 -0.021420935652249673\n",
      "-0.008425337050183668 -0.0075327181347186745 -0.00788180846754205\n",
      "-0.007163092190491938 -0.0070813518399450714 -0.006867365106664636\n",
      "-0.0031223140201706023 -0.0029269151794681925 -0.003002959554859519\n"
     ]
    }
   ],
   "source": [
    "def get_min_max(data1, data2, data3):\n",
    "\n",
    "    min1 = np.min(data1, axis=1) - mean_values\n",
    "    min2 = np.min(data2, axis=1) - mean_values\n",
    "    min3 = np.min(data3, axis=1) - mean_values\n",
    "\n",
    "    max1 = np.max(data1, axis=1) - mean_values\n",
    "    max2 = np.max(data2, axis=1) - mean_values\n",
    "    max3 = np.max(data3, axis=1) - mean_values\n",
    "\n",
    "    maxes = []\n",
    "    mins = []\n",
    "    \n",
    "    min1, _ , _, _ = petsc.reshape_vector_to_3d(land_sea_mask,min1)\n",
    "    min2, _ , _, _ = petsc.reshape_vector_to_3d(land_sea_mask,min2)\n",
    "    min3, _ , _, _ = petsc.reshape_vector_to_3d(land_sea_mask,min3)\n",
    "\n",
    "    max1, _ , _, _ = petsc.reshape_vector_to_3d(land_sea_mask,max1)\n",
    "    max2, _ , _, _ = petsc.reshape_vector_to_3d(land_sea_mask,max2)\n",
    "    max3, _ , _, _ = petsc.reshape_vector_to_3d(land_sea_mask,max3)\n",
    "\n",
    "    for i in range(15):\n",
    "        max_elem = max(\n",
    "                np.nanmax(max1[:,:,i]),\n",
    "                np.nanmax(max2[:,:,i]),\n",
    "                np.nanmax(max3[:,:,i]),\n",
    "            )\n",
    "        maxes.append(max_elem)\n",
    "\n",
    "        print( np.nanmin(min1[:,:,i]),\n",
    "                np.nanmin(min2[:,:,i]),\n",
    "                np.nanmin(min3[:,:,i]),\n",
    "            )\n",
    "\n",
    "        mins.append(\n",
    "            min(\n",
    "                np.nanmin(min1[:,:,i]),\n",
    "                np.nanmin(min2[:,:,i]),\n",
    "                np.nanmin(min3[:,:,i]),\n",
    "            )\n",
    "        )\n",
    "\n",
    "    return mins, maxes\n",
    "\n",
    "mins, maxes = get_min_max(data, fake_compress(X,index_set=([0] + C_idx_sorted[:2])), fake_compress(X, index_set=([0] + C_idx_sorted[:4])))"
   ]
  },
  {
   "cell_type": "code",
   "execution_count": 31,
   "metadata": {},
   "outputs": [
    {
     "data": {
      "text/plain": [
       "[(-0.3991645833989094, 0.528397944443761),\n",
       " (-0.5116384967585683, 0.640772956323747),\n",
       " (-0.2915858103122073, 0.3210485840893387),\n",
       " (-0.17292532429021867, 0.1702051132414928),\n",
       " (-0.08288249003143378, 0.09205707551395892),\n",
       " (-0.0650681489946453, 0.06335249599788706),\n",
       " (-0.0399849453051917, 0.03816639522484344),\n",
       " (-0.04265078224989782, 0.04389701742953278),\n",
       " (-0.025580952467473494, 0.026395464274459712),\n",
       " (-0.009743323571322682, 0.009527571211308539),\n",
       " (-0.015723550955122123, 0.014990954103520027),\n",
       " (-0.02269708738677112, 0.021589829989564047),\n",
       " (-0.008425337050183668, 0.008691129114050344),\n",
       " (-0.007163092190491938, 0.007981563414362736),\n",
       " (-0.0031223140201706023, 0.003213656009288357)]"
      ]
     },
     "execution_count": 31,
     "metadata": {},
     "output_type": "execute_result"
    }
   ],
   "source": [
    "list(zip(mins,maxes))"
   ]
  },
  {
   "cell_type": "code",
   "execution_count": 32,
   "metadata": {},
   "outputs": [],
   "source": [
    "relative_levels = [\n",
    "   list(np.linspace(lower, upper, 10)) for lower,upper in zip(mins, maxes) \n",
    "]"
   ]
  },
  {
   "cell_type": "code",
   "execution_count": 33,
   "metadata": {},
   "outputs": [],
   "source": [
    "def plot_series(data, steps, save_path, land_sea_mask, layer, mean_values=None):\n",
    "    stepsize = len(data[0]) // steps\n",
    "    n1, n2 = np.shape(land_sea_mask.T)\n",
    "    long, lat = np.meshgrid(np.linspace(-90, 90, n2), np.linspace(0, 360, n1))\n",
    "\n",
    "\n",
    "    for step in range(steps):\n",
    "        layer_data = data[:, step * stepsize]\n",
    "\n",
    "        if not mean_values is None:\n",
    "            layer_data = layer_data - mean_values\n",
    "\n",
    "        fig, ax = plt.subplots(figsize=(15, 7))\n",
    "        data_3d, _ , _, _ = petsc.reshape_vector_to_3d(land_sea_mask,layer_data)\n",
    "\n",
    "        plot = ax.contourf(lat, long, data_3d[:, :, layer], levels=None if mean_values is None else relative_levels[layer])\n",
    "        fig.colorbar(plot, ax=ax)\n",
    "        ax.set_ylabel('latitude')\n",
    "        ax.set_xlabel('longitude')\n",
    "\n",
    "        fig.savefig(join(save_path, f\"{step}.png\"))\n",
    "        plt.close(fig)"
   ]
  },
  {
   "cell_type": "code",
   "execution_count": 35,
   "metadata": {},
   "outputs": [
    {
     "name": "stdout",
     "output_type": "stream",
     "text": [
      "0\n",
      "1\n",
      "2\n",
      "3\n",
      "4\n",
      "5\n",
      "6\n",
      "7\n",
      "8\n",
      "9\n",
      "10\n",
      "11\n",
      "12\n",
      "13\n",
      "14\n"
     ]
    }
   ],
   "source": [
    "for layer in range(15):\n",
    "        print(layer)\n",
    "        plot_series(data, 48, r\"D:\\Bachelorarbeit Data\\bilder\\relative_values\\reference\\layer\" + str(layer), land_sea_mask, layer, mean_values=mean_values)\n",
    "        # plot_series(data, 48, r\"D:\\Bachelorarbeit Data\\bilder\\absolute values\\reference\\layer\" + str(layer), land_sea_mask, layer)"
   ]
  },
  {
   "cell_type": "code",
   "execution_count": 36,
   "metadata": {},
   "outputs": [
    {
     "name": "stdout",
     "output_type": "stream",
     "text": [
      "2 0\n",
      "2 1\n",
      "2 2\n",
      "2 3\n",
      "2 4\n",
      "2 5\n",
      "2 6\n",
      "2 7\n",
      "2 8\n",
      "2 9\n",
      "2 10\n",
      "2 11\n",
      "2 12\n",
      "2 13\n",
      "2 14\n",
      "4 0\n",
      "4 1\n",
      "4 2\n",
      "4 3\n",
      "4 4\n",
      "4 5\n",
      "4 6\n",
      "4 7\n",
      "4 8\n",
      "4 9\n",
      "4 10\n",
      "4 11\n",
      "4 12\n",
      "4 13\n",
      "4 14\n"
     ]
    }
   ],
   "source": [
    "for i in [2,4]:\n",
    "    index_set = [0] + C_idx_sorted[:i]\n",
    "    for layer in range(15):\n",
    "        print(i,layer)\n",
    "        plot_series(fake_compress(X, index_set), 48, r\"D:\\Bachelorarbeit Data\\bilder\\relative_values\\perfect_\" + str(i) + r\"\\layer\" + str(layer), land_sea_mask, layer, mean_values=mean_values)\n",
    "        # plot_series(fake_compress(X, index_set), 48, r\"D:\\Bachelorarbeit Data\\bilder\\absolute values\\perfect_\" + str(i) + r\"\\layer\" + str(layer), land_sea_mask, layer)"
   ]
  }
 ],
 "metadata": {
  "interpreter": {
   "hash": "355e839aecf0a26916d35e15c45664b331db5e8d8ce8be26c9acca8aa55b4770"
  },
  "kernelspec": {
   "display_name": "Python 3.8.8 64-bit ('base': conda)",
   "name": "python3"
  },
  "language_info": {
   "codemirror_mode": {
    "name": "ipython",
    "version": 3
   },
   "file_extension": ".py",
   "mimetype": "text/x-python",
   "name": "python",
   "nbconvert_exporter": "python",
   "pygments_lexer": "ipython3",
   "version": "3.8.8"
  }
 },
 "nbformat": 4,
 "nbformat_minor": 4
}
